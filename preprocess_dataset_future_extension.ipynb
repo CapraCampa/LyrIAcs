{
  "cells": [
    {
      "cell_type": "markdown",
      "metadata": {
        "id": "UZeA7PfQREvj"
      },
      "source": [
        "# Import data from Kaggle & download reduced dataset"
      ]
    },
    {
      "cell_type": "code",
      "execution_count": 1,
      "metadata": {
        "colab": {
          "base_uri": "https://localhost:8080/"
        },
        "id": "2ShqKvNTHaxu",
        "outputId": "139d8d11-f767-47ad-8369-7c281fafa022"
      },
      "outputs": [
        {
          "name": "stderr",
          "output_type": "stream",
          "text": [
            "c:\\Users\\desta\\AppData\\Local\\Programs\\Python\\Python312\\Lib\\site-packages\\tqdm\\auto.py:21: TqdmWarning: IProgress not found. Please update jupyter and ipywidgets. See https://ipywidgets.readthedocs.io/en/stable/user_install.html\n",
            "  from .autonotebook import tqdm as notebook_tqdm\n"
          ]
        },
        {
          "name": "stdout",
          "output_type": "stream",
          "text": [
            "Warning: Looks like you're using an outdated `kagglehub` version, please consider updating (latest version: 0.3.6)\n",
            "Resuming download from 865075200 bytes (2398199383 bytes left)...\n",
            "Resuming download from https://www.kaggle.com/api/v1/datasets/download/carlosgdcj/genius-song-lyrics-with-language-information?dataset_version_number=1 (865075200/3263274583) bytes left.\n"
          ]
        },
        {
          "name": "stderr",
          "output_type": "stream",
          "text": [
            "100%|██████████| 3.04G/3.04G [08:35<00:00, 4.65MB/s]"
          ]
        },
        {
          "name": "stdout",
          "output_type": "stream",
          "text": [
            "Extracting files...\n"
          ]
        },
        {
          "name": "stderr",
          "output_type": "stream",
          "text": [
            "\n"
          ]
        },
        {
          "name": "stdout",
          "output_type": "stream",
          "text": [
            "C:\\Users\\desta\\.cache\\kagglehub\\datasets\\carlosgdcj\\genius-song-lyrics-with-language-information\\versions\\1\n"
          ]
        }
      ],
      "source": [
        "import pandas as pd\n",
        "import kagglehub\n",
        "\n",
        "path = kagglehub.dataset_download(\"carlosgdcj/genius-song-lyrics-with-language-information\")\n",
        "print(path)"
      ]
    },
    {
      "cell_type": "code",
      "execution_count": 1,
      "metadata": {
        "id": "lWi1NyF9uoT4"
      },
      "outputs": [],
      "source": [
        "# !!! Execute this cell to load the dataset if it is not already loaded\n",
        "\n",
        "# modified_path = path.replace(\"C:\\\\\", \"/\").replace(\"\\\\\", \"/\") + \"/song_lyrics.csv\"\n",
        "# chunksize = 10000  # Adjust based on available memory\n",
        "# english_lyrics_df = pd.DataFrame()  # Create an empty DataFrame to store the English lyrics\n",
        "\n",
        "# for chunk in pd.read_csv(modified_path, chunksize=chunksize):\n",
        "#    # Filter the chunk for rows where the language is 'en' (English)\n",
        "#     english_lyrics_chunk = chunk[chunk[\"language\"] == \"en\"]\n",
        "# \n",
        "#     # Append the filtered chunk to the main DataFrame\n",
        "#     english_lyrics_df = pd.concat([english_lyrics_df, english_lyrics_chunk], ignore_index=True)\n"
      ]
    },
    {
      "cell_type": "code",
      "execution_count": null,
      "metadata": {},
      "outputs": [],
      "source": [
        "df = pd.read_csv(\"song_lyrics.csv\")\n",
        "df[\"tag\"].unique()"
      ]
    },
    {
      "cell_type": "code",
      "execution_count": null,
      "metadata": {
        "colab": {
          "base_uri": "https://localhost:8080/",
          "height": 206
        },
        "id": "PkMFDUXnt6k0",
        "outputId": "3722ec95-c55e-489e-986e-6a60b7ab510a"
      },
      "outputs": [],
      "source": [
        "#drop irrelevant columns\n",
        "columns_to_drop = ['artist', 'views', 'features', 'language', 'language_cld3', 'language_ft', 'id','year', 'title']\n",
        "df_clean = english_lyrics_df.drop(columns=columns_to_drop)\n",
        "df_clean.head()"
      ]
    },
    {
      "cell_type": "code",
      "execution_count": null,
      "metadata": {
        "id": "vem7-Pb8Dz1e"
      },
      "outputs": [],
      "source": [
        "df_clean.to_csv(\"english_lyrics_genre.csv\", index=False)"
      ]
    },
    {
      "cell_type": "markdown",
      "metadata": {
        "id": "oZ_D1Q8wRg7g"
      },
      "source": [
        "# Text preprocessing"
      ]
    },
    {
      "cell_type": "code",
      "execution_count": 7,
      "metadata": {
        "colab": {
          "base_uri": "https://localhost:8080/",
          "height": 348
        },
        "id": "dK92lGwaQvnf",
        "outputId": "027ccf99-34ba-43bf-ce74-348d7fd6a627"
      },
      "outputs": [
        {
          "data": {
            "text/plain": [
              "3374198"
            ]
          },
          "execution_count": 7,
          "metadata": {},
          "output_type": "execute_result"
        }
      ],
      "source": [
        "df_clean = pd.read_csv(\"english_lyrics_genre.csv\")\n",
        "len(df_clean)"
      ]
    },
    {
      "cell_type": "code",
      "execution_count": 8,
      "metadata": {},
      "outputs": [
        {
          "data": {
            "text/plain": [
              "array(['rap', 'rb', 'rock', 'pop', 'misc', 'country'], dtype=object)"
            ]
          },
          "execution_count": 8,
          "metadata": {},
          "output_type": "execute_result"
        }
      ],
      "source": [
        "df_clean[\"tag\"].unique()"
      ]
    },
    {
      "cell_type": "code",
      "execution_count": 9,
      "metadata": {},
      "outputs": [
        {
          "name": "stdout",
          "output_type": "stream",
          "text": [
            "0    Killa Cam Killa Cam Cam\\nKilla Cam Killa Cam\\n...\n",
            "1    Yeah hah yeah RocAFella\\nWe invite you to some...\n",
            "2    Maybe cause Im eatin\\nAnd these bastards fiend...\n",
            "3    Ugh Killa\\nBaby\\nKanye this that 1970s Heron f...\n",
            "4    So they ask me\\nYoung boy\\nWhat you gon do the...\n",
            "Name: lyrics, dtype: object\n"
          ]
        }
      ],
      "source": [
        "import re\n",
        "# to reduce vocab size let s try to remove more unecessary symbols and parts \n",
        "# Define a cleaning function\n",
        "def clean_lyrics(lyrics):\n",
        "    # Remove section tags like [Intro], [Verse 1], etc.\n",
        "    cleaned = re.sub(r'\\[.*?\\]', '', lyrics)\n",
        "    \n",
        "    # Remove credits or text after \"---\"\n",
        "    cleaned = re.split(r'---', cleaned)[0]\n",
        "    \n",
        "    # Remove symbols except for line breaks (\\n) and alphanumeric characters\n",
        "    cleaned = re.sub(r'[^\\w\\s\\n]', '', cleaned)\n",
        "    \n",
        "    # Remove extra whitespace and blank lines\n",
        "    cleaned = re.sub(r'\\n\\s*\\n', '\\n', cleaned).strip()\n",
        "    \n",
        "    return cleaned\n",
        "\n",
        "# Apply the cleaning function\n",
        "df_clean['lyrics'] = df_clean['lyrics'].apply(clean_lyrics)\n",
        "print(df_clean['lyrics'].head(5))"
      ]
    },
    {
      "cell_type": "code",
      "execution_count": 10,
      "metadata": {},
      "outputs": [
        {
          "name": "stdout",
          "output_type": "stream",
          "text": [
            "Dear God  I wonder can you save me\n",
            "Illuminati want my mind soul and my body\n",
            "Dear God  I wonder can you save me\n",
            "Secret society tryna keep they eye on me\n",
            "Dear God  I wonder can you save me\n",
            "Illuminati want my mind soul and my body\n",
            "Dear God  I wonder can you save me\n",
            "I cant die I cant die I cant die\n",
            "This shit is wicked on these mean streets\n",
            "None of my friends speak were all tryna win\n",
            "But then again maybe its for the best though\n",
            "Cause when theyre sayin too much\n",
            "You know theyre tryna get you touched\n",
            "Whoever said illegal was the easy way out\n",
            "Couldnt understand the mechanics\n",
            "And the workings of the underworld granted\n",
            "Ninetofive is how you survive I aint tryna survive\n",
            "Im tryna live it to the limit and love it a lot\n",
            "Life ills poisoned my body I used to say fuck mic skills\n",
            "I never prayed to God I prayed to Gotti\n",
            "Thats right its wicked  thats life I live it\n",
            "Aint askin for forgiveness for my sins ends\n",
            "I break bread with the late heads\n",
            "Pickin their brains for angles on all the evils that the gamell do\n",
            "It gets dangerous money and power is changin us\n",
            "And now were lethal infected with Devils\n",
            "Dear God  I wonder can you save me\n",
            "Illuminati want my mind soul and my body\n",
            "Dear God  I wonder can you save me\n",
            "Secret society tryna keep they eye on me\n",
            "Dear God  I wonder can you save me\n",
            "Illuminati want my mind soul and my body\n",
            "Dear God  I wonder can you save me\n",
            "I cant die I cant die I cant die\n",
            "We used to fight for building blocks\n",
            "Now we fight for blocks with buildings that make a killin\n",
            "The closest of friends when we first started\n",
            "But grew apart as the money grew and soon grew blackhearted\n",
            "Thinkin back when we first learned to use rubbers\n",
            "He never learned so in turn Im kidnappin his babys mother\n",
            "My hand around her collar feedin her cheese\n",
            "She said the taste of dollars was shitty so I fed her fifties\n",
            "About his whereabouts I wasnt convinced\n",
            "I kept feedin her money til her shit started to make sense\n",
            "Who could ever foresee\n",
            "We used to stay up all night at slumber parties\n",
            "Now Im tryna rock his bitch to sleep\n",
            "All the years we were real close\n",
            "Now I see his fears through her tears\n",
            "Know shes wishin we were still close\n",
            "Dont cry it is to be in time\n",
            "Ill take away your miseries and make it mine Devils\n",
            "Dear God  I wonder can you save me\n",
            "Illuminati want my mind soul and my body\n",
            "Dear God  I wonder can you save me\n",
            "Secret society tryna keep they eye on me\n",
            "Dear God  I wonder can you save me\n",
            "Illuminati want my mind soul and my body\n",
            "Dear God  I wonder can you save me\n",
            "I cant die I cant die I cant die\n",
            "My flesh no nigga could test my soul is possessed\n",
            "By Devils in the form of diamonds and Lexuses\n",
            "The Exorcist got me doin sticks\n",
            "Like Homie you dont know me\n",
            "But the whole world owe me strip\n",
            "Was thought to be a pleasant guy all my fuckin life\n",
            "So now Im down for whatever aint nothin nice\n",
            "Throughout my junior high years it was all friendly\n",
            "But now this higher learning got the Remy in me\n",
            "Liquors invaded my kidneys\n",
            "Got me ready to lick off  Momma forgive me\n",
            "I cant be held accountable Devils beatin me down boo\n",
            "Got me runnin with guys makin Gs tellin lies that sound true\n",
            "Come test me I never cower\n",
            "For the love of money son Im givin lead showers\n",
            "Stop screamin you know the demon said its best to die\n",
            "And even if Jehovah witness bet hell never testify Devils\n",
            "Dear God  I wonder can you save me\n",
            "I cant die I cant die I cant die\n"
          ]
        }
      ],
      "source": [
        "print(df_clean[\"lyrics\"][12])"
      ]
    }
  ],
  "metadata": {
    "colab": {
      "provenance": []
    },
    "kernelspec": {
      "display_name": "Python 3",
      "name": "python3"
    },
    "language_info": {
      "codemirror_mode": {
        "name": "ipython",
        "version": 3
      },
      "file_extension": ".py",
      "mimetype": "text/x-python",
      "name": "python",
      "nbconvert_exporter": "python",
      "pygments_lexer": "ipython3",
      "version": "3.12.7"
    }
  },
  "nbformat": 4,
  "nbformat_minor": 0
}
