{
  "nbformat": 4,
  "nbformat_minor": 0,
  "metadata": {
    "colab": {
      "provenance": []
    },
    "kernelspec": {
      "name": "python3",
      "display_name": "Python 3"
    },
    "language_info": {
      "name": "python"
    }
  },
  "cells": [
    {
      "cell_type": "code",
      "source": [
        "# @title Tramite R\n",
        "import rpy2.robjects as robjects\n",
        "from rpy2.robjects.packages import importr\n",
        "import rpy2.robjects.packages as rpackages\n",
        "\n",
        "# Too many warnings\n",
        "warnings.filterwarnings("ignore")\n",
        "\n",
        "# Funzione per installare un pacchetto R\n",
        "def install_r_package(package_name):\n",
        "    utils = rpackages.importr('utils')\n",
        "    utils.chooseCRANmirror(ind=1)  # Scegli uno specchio CRAN\n",
        "    utils.install_packages(package_name)\n",
        "\n",
        "# Installa i pacchetti uno alla volta\n",
        "install_r_package('tm')\n",
        "install_r_package('SnowballC')\n",
        "install_r_package('randomForest')\n",
        "install_r_package('caret')\n",
        "\n",
        "# Importa le librerie necessarie\n",
        "tm = importr('tm')\n",
        "SnowballC = importr('SnowballC')\n",
        "randomForest = importr('randomForest')\n",
        "caret = importr('caret')"
      ],
      "metadata": {
        "id": "bas71vUP4-q6"
      },
      "execution_count": null,
      "outputs": []
    },
    {
      "cell_type": "code",
      "source": [
        "# Carica il testo\n",
        "text = pd.read_csv(\"train.csv\")\n",
        "\n",
        "# Definisci la funzione R\n",
        "r_code = \"\"\"\n",
        "genre_predict = function(text){\n",
        "\n",
        "  #Create corpus\n",
        "  text_corpus <- Corpus(VectorSource(text))\n",
        "\n",
        "  # Clean corpus\n",
        "  text_corpus <- tm_map(text_corpus, content_transformer(tolower))\n",
        "  text_corpus <- tm_map(text_corpus, removePunctuation)\n",
        "  text_corpus <- tm_map(text_corpus, removeNumbers)\n",
        "  text_corpus <- tm_map(text_corpus, removeWords, stopwords(\"en\"))\n",
        "  text_corpus <- tm_map(text_corpus, stemDocument)\n",
        "  text_corpus <- tm_map(text_corpus, stripWhitespace)\n",
        "\n",
        "  text_dtm <- DocumentTermMatrix(text_corpus)\n",
        "\n",
        "  matrix <- as.matrix(text_dtm)\n",
        "\n",
        "  # Model evaluation\n",
        "  predictions <- predict(model, matrix)\n",
        "\n",
        "  # Output of prevision\n",
        "  return(predictions)\n",
        "}\n",
        "\"\"\"\n",
        "\n",
        "# Esegui il codice R\n",
        "robjects.r(r_code)\n",
        "\n",
        "# Richiama la funzione R da Python\n",
        "genre_predict = robjects.globalenv['genre_predict']\n",
        "result = genre_predict('ciao')\n",
        "print(result)"
      ]
    }
  ]
}
