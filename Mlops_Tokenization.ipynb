{
  "cells": [
    {
      "cell_type": "markdown",
      "metadata": {
        "id": "Rudj7uyr193k"
      },
      "source": [
        "# Tokenizzazione"
      ]
    },
    {
      "cell_type": "code",
      "execution_count": 29,
      "metadata": {
        "colab": {
          "base_uri": "https://localhost:8080/"
        },
        "id": "Z_d1716sI7gC",
        "outputId": "d8fa35d5-bac9-4647-938f-631344133f47"
      },
      "outputs": [
        {
          "output_type": "stream",
          "name": "stderr",
          "text": [
            "[nltk_data] Downloading package punkt to /root/nltk_data...\n",
            "[nltk_data]   Package punkt is already up-to-date!\n",
            "[nltk_data] Downloading package punkt_tab to /root/nltk_data...\n",
            "[nltk_data]   Package punkt_tab is already up-to-date!\n"
          ]
        }
      ],
      "source": [
        "\n",
        "import pandas as pd\n",
        "import matplotlib.pyplot as plt\n",
        "from sklearn.cluster import KMeans\n",
        "from tokenizers import Tokenizer\n",
        "from tokenizers.models import WordPiece\n",
        "from tokenizers.trainers import WordPieceTrainer\n",
        "from tokenizers.normalizers import Lowercase\n",
        "from tokenizers.pre_tokenizers import Whitespace\n",
        "from transformers import AutoTokenizer\n",
        "import pandas as pd\n",
        "import nltk\n",
        "nltk.download('punkt')\n",
        "nltk.download('punkt_tab')\n",
        "from nltk.tokenize import sent_tokenize\n",
        "import re\n",
        "from tensorflow.keras.preprocessing.text import Tokenizer\n",
        "from tensorflow.keras.preprocessing.sequence import pad_sequences\n",
        "import pandas as pd\n",
        "import numpy as np\n",
        "import kagglehub\n",
        "\n",
        "path = kagglehub.dataset_download(\"mateibejan/multilingual-lyrics-for-genre-classification\")"
      ]
    },
    {
      "cell_type": "code",
      "execution_count": 30,
      "metadata": {
        "colab": {
          "base_uri": "https://localhost:8080/"
        },
        "id": "r57KVGFsJ099",
        "outputId": "51aada5d-2aab-483a-abf4-401363bad970"
      },
      "outputs": [
        {
          "output_type": "stream",
          "name": "stdout",
          "text": [
            "210010\n",
            "       Artist          Song  \\\n",
            "122  2 chainz    100 joints   \n",
            "169  2 chainz         kesha   \n",
            "713   50 cent  all his love   \n",
            "714   50 cent     all of me   \n",
            "726   50 cent      bad news   \n",
            "\n",
            "                                                Lyrics           Genre  \n",
            "122  [Hook]\\nNo matter what they say I smoke 100 jo...  [Pop, Hip-Hop]  \n",
            "169  I am in love, with what we are, not what we sh...  [Pop, Hip-Hop]  \n",
            "713  [Chorus: singing]\\nHe gon' give you all his lo...  [Pop, Hip-Hop]  \n",
            "714  Mary~\\nnow if i give ya all of me what ya gon ...  [Pop, Hip-Hop]  \n",
            "726  Lloyd Banks in the house, bad news\\nTony Yayo ...  [Pop, Hip-Hop]  \n"
          ]
        }
      ],
      "source": [
        "\n",
        "modified_path = path.replace(\"C:\\\\\", \"/\").replace(\"\\\\\", \"/\") + \"/train.csv\"\n",
        "df = pd.read_csv(modified_path)\n",
        "df.head()\n",
        "# print(df.Genre.unique())\n",
        "df = df[df['Language']=='en']\n",
        "columns_to_drop = ['Language']\n",
        "df = df.drop(columns=columns_to_drop)\n",
        "\n",
        "df = df.groupby(['Artist', 'Song']).agg({\n",
        "    'Lyrics': 'first',  # Take the first instance of the lyrics for each group\n",
        "    'Genre': lambda x: list(set(x))       # Aggregate all genres into a list\n",
        "}).reset_index()\n",
        "print(len(df))\n",
        "multi_genre_songs = df[df['Genre'].apply(len) > 1]\n",
        "\n",
        "# Display these songs\n",
        "print(multi_genre_songs.head())\n",
        "columns_to_drop = ['Artist',\"Song\"]\n",
        "df = df.drop(columns=columns_to_drop)"
      ]
    },
    {
      "cell_type": "code",
      "execution_count": 52,
      "metadata": {
        "id": "mgEYai4u3Wsu",
        "colab": {
          "base_uri": "https://localhost:8080/"
        },
        "outputId": "e7094f4a-099c-4211-fbce-ceb3d1212a1c"
      },
      "outputs": [
        {
          "output_type": "stream",
          "name": "stdout",
          "text": [
            "Hazy Days With Lazy Ways You get less done but more Out of your days How can you work yet avoid Getting out of your lazy ways You'll never get up if you don't get up You'll always stay down if you sit around You'll never get up if you don't get up You'll always stay down if you sit around Hazy Days Lazy Ways We got less done but more Out of our days How can we ever recapture the feeling Of lazy ways You'll never get up if you don't get up You'll always stay down if you sit around Where nobody cares and nobody tries 'Cos a daydreams resting on the back of your eyes On the back of your eyes Taking five Bring love to me With your body Let me hold you Endless, endlessly You'll never get up if you don't get up You'll always stay down if you sit around Where nobody cares and nobody tries 'Cos a daydreams resting on the back of your eyes On the back of your eyes Hazy days Lazy ways You get less done but more Out of your days Crazy days Lazy ways\n",
            "[\"Hazy Days With Lazy Ways You get less done but more Out of your days How can you work yet avoid Getting out of your lazy ways You'll never get up if you don't get up You'll always stay down if you sit around You'll never get up if you don't get up You'll always stay down if you sit around Hazy Days Lazy Ways We got less done but more Out of our days How can we ever recapture the feeling Of lazy ways You'll never get up if you don't get up You'll always stay down if you sit around Where nobody cares and nobody tries 'Cos a daydreams resting on the back of your eyes On the back of your eyes Taking five Bring love to me With your body Let me hold you Endless, endlessly You'll never get up if you don't get up You'll always stay down if you sit around Where nobody cares and nobody tries 'Cos a daydreams resting on the back of your eyes On the back of your eyes Hazy days Lazy ways You get less done but more Out of your days Crazy days Lazy ways\"]\n",
            "Hazy Days With Lazy Ways You get less done but more Out of your days How can you work yet avoid Getting out of your lazy ways You'll NOT_never NOT_get NOT_up NOT_if NOT_you NOT_don't NOT_get NOT_up NOT_You'll NOT_always NOT_stay NOT_down NOT_if NOT_you NOT_sit NOT_around NOT_You'll NOT_never NOT_get NOT_up NOT_if NOT_you NOT_don't NOT_get NOT_up NOT_You'll NOT_always NOT_stay NOT_down NOT_if NOT_you NOT_sit NOT_around NOT_Hazy NOT_Days NOT_Lazy NOT_Ways NOT_We NOT_got NOT_less NOT_done NOT_but NOT_more NOT_Out NOT_of NOT_our NOT_days NOT_How NOT_can NOT_we NOT_ever NOT_recapture NOT_the NOT_feeling NOT_Of NOT_lazy NOT_ways NOT_You'll NOT_never NOT_get NOT_up NOT_if NOT_you NOT_don't NOT_get NOT_up NOT_You'll NOT_always NOT_stay NOT_down NOT_if NOT_you NOT_sit NOT_around NOT_Where NOT_nobody NOT_cares NOT_and NOT_nobody NOT_tries NOT_'Cos NOT_a NOT_daydreams NOT_resting NOT_on NOT_the NOT_back NOT_of NOT_your NOT_eyes NOT_On NOT_the NOT_back NOT_of NOT_your NOT_eyes NOT_Taking NOT_five NOT_Bring NOT_love NOT_to NOT_me NOT_With NOT_your NOT_body NOT_Let NOT_me NOT_hold NOT_you NOT_Endless, endlessly You'll NOT_never NOT_get NOT_up NOT_if NOT_you NOT_don't NOT_get NOT_up NOT_You'll NOT_always NOT_stay NOT_down NOT_if NOT_you NOT_sit NOT_around NOT_Where NOT_nobody NOT_cares NOT_and NOT_nobody NOT_tries NOT_'Cos NOT_a NOT_daydreams NOT_resting NOT_on NOT_the NOT_back NOT_of NOT_your NOT_eyes NOT_On NOT_the NOT_back NOT_of NOT_your NOT_eyes NOT_Hazy NOT_days NOT_Lazy NOT_ways NOT_You NOT_get NOT_less NOT_done NOT_but NOT_more NOT_Out NOT_of NOT_your NOT_days NOT_Crazy NOT_days NOT_Lazy NOT_ways\n"
          ]
        }
      ],
      "source": [
        "# Handling negations\n",
        "\n",
        "def handle_negations(text):\n",
        "    sub_tokens = text.split()\n",
        "    neg = False\n",
        "    neg_tokens = []\n",
        "    punctuation = [',','.', '?', '!', ';', 'exclamations', 'questionMarks', 'ellipsis', '\\n']\n",
        "    negation_words = {\"n't\", \"not\", \"no\", \"never\", \"dont\", \"don't\", \"cannot\", \"wont\"}\n",
        "\n",
        "    for token in sub_tokens:\n",
        "        # Remove trailing punctuation before checking\n",
        "        cleaned_token = re.sub(r'[\\.\\?\\!;]+$', '', token)\n",
        "\n",
        "        if cleaned_token in negation_words:\n",
        "            neg = True\n",
        "\n",
        "        neg_token = f\"NOT_{token}\" if neg else token\n",
        "        neg_tokens.append(neg_token)\n",
        "\n",
        "        # Reset negation if the original token had sentence-ending punctuation\n",
        "        if any(p in token for p in punctuation):\n",
        "            neg = False\n",
        "\n",
        "    return ' '.join(neg_tokens)\n",
        "\n",
        "text = df['Lyrics'][1]\n",
        "print(text)\n",
        "print(sent_tokenize(text))\n",
        "print(handle_negations(text))\n"
      ]
    },
    {
      "cell_type": "code",
      "execution_count": 54,
      "metadata": {
        "colab": {
          "base_uri": "https://localhost:8080/",
          "height": 295
        },
        "id": "itlrXSK-HiY6",
        "outputId": "9029d44f-065e-4cc8-a8ed-5736e9aae5d3"
      },
      "outputs": [
        {
          "output_type": "stream",
          "name": "stdout",
          "text": [
            "Hazy Days With Lazy Ways You get less done but more Out of your days How can you work yet avoid Getting out of your lazy ways You'll never get up if you don't get up You'll always stay down if you sit around You'll never get up if you don't get up You'll always stay down if you sit around Hazy Days Lazy Ways We got less done but more Out of our days How can we ever recapture the feeling Of lazy ways You'll never get up if you don't get up You'll always stay down if you sit around Where nobody cares and nobody tries 'Cos a daydreams resting on the back of your eyes On the back of your eyes Taking five Bring love to me With your body Let me hold you Endless, endlessly You'll never get up if you don't get up You'll always stay down if you sit around Where nobody cares and nobody tries 'Cos a daydreams resting on the back of your eyes On the back of your eyes Hazy days Lazy ways You get less done but more Out of your days Crazy days Lazy ways\n",
            "hazy days with lazy ways you get less done but more out of your days how can you work yet avoid getting out of your lazy ways youll never get up if you dont get up youll always stay down if you sit around youll never get up if you dont get up youll always stay down if you sit around hazy days lazy ways we got less done but more out of our days how can we ever recapture the feeling of lazy ways youll never get up if you dont get up youll always stay down if you sit around where nobody cares and nobody tries cos a daydreams resting on the back of your eyes on the back of your eyes taking five bring love to me with your body let me hold you endless endlessly youll never get up if you dont get up youll always stay down if you sit around where nobody cares and nobody tries cos a daydreams resting on the back of your eyes on the back of your eyes hazy days lazy ways you get less done but more out of your days crazy days lazy ways\n",
            "Dynamic max_sequence_length: 529\n",
            "Top 10 most frequent words in tokenizer vocabulary: [('<UNK>', 1), ('the', 2), ('you', 3), ('i', 4), ('and', 5), ('to', 6), ('a', 7), ('me', 8), ('my', 9), ('it', 10)]\n"
          ]
        },
        {
          "output_type": "execute_result",
          "data": {
            "text/plain": [
              "                                              Lyrics         Genre\n",
              "0  dont call me horse.\\n im a unicorn.\\n mystical...  [Electronic]\n",
              "1  hazy days with lazy ways you get less done but...        [Rock]\n",
              "2  the summers were longer they went on forever o...        [Rock]\n",
              "3  you promised me a life you promised me everyth...        [Rock]\n",
              "4  i looked in the mirror what did you see lookin...        [Rock]"
            ],
            "text/html": [
              "\n",
              "  <div id=\"df-6a004477-9f01-40be-90f8-320130ffcf24\" class=\"colab-df-container\">\n",
              "    <div>\n",
              "<style scoped>\n",
              "    .dataframe tbody tr th:only-of-type {\n",
              "        vertical-align: middle;\n",
              "    }\n",
              "\n",
              "    .dataframe tbody tr th {\n",
              "        vertical-align: top;\n",
              "    }\n",
              "\n",
              "    .dataframe thead th {\n",
              "        text-align: right;\n",
              "    }\n",
              "</style>\n",
              "<table border=\"1\" class=\"dataframe\">\n",
              "  <thead>\n",
              "    <tr style=\"text-align: right;\">\n",
              "      <th></th>\n",
              "      <th>Lyrics</th>\n",
              "      <th>Genre</th>\n",
              "    </tr>\n",
              "  </thead>\n",
              "  <tbody>\n",
              "    <tr>\n",
              "      <th>0</th>\n",
              "      <td>dont call me horse.\\n im a unicorn.\\n mystical...</td>\n",
              "      <td>[Electronic]</td>\n",
              "    </tr>\n",
              "    <tr>\n",
              "      <th>1</th>\n",
              "      <td>hazy days with lazy ways you get less done but...</td>\n",
              "      <td>[Rock]</td>\n",
              "    </tr>\n",
              "    <tr>\n",
              "      <th>2</th>\n",
              "      <td>the summers were longer they went on forever o...</td>\n",
              "      <td>[Rock]</td>\n",
              "    </tr>\n",
              "    <tr>\n",
              "      <th>3</th>\n",
              "      <td>you promised me a life you promised me everyth...</td>\n",
              "      <td>[Rock]</td>\n",
              "    </tr>\n",
              "    <tr>\n",
              "      <th>4</th>\n",
              "      <td>i looked in the mirror what did you see lookin...</td>\n",
              "      <td>[Rock]</td>\n",
              "    </tr>\n",
              "  </tbody>\n",
              "</table>\n",
              "</div>\n",
              "    <div class=\"colab-df-buttons\">\n",
              "\n",
              "  <div class=\"colab-df-container\">\n",
              "    <button class=\"colab-df-convert\" onclick=\"convertToInteractive('df-6a004477-9f01-40be-90f8-320130ffcf24')\"\n",
              "            title=\"Convert this dataframe to an interactive table.\"\n",
              "            style=\"display:none;\">\n",
              "\n",
              "  <svg xmlns=\"http://www.w3.org/2000/svg\" height=\"24px\" viewBox=\"0 -960 960 960\">\n",
              "    <path d=\"M120-120v-720h720v720H120Zm60-500h600v-160H180v160Zm220 220h160v-160H400v160Zm0 220h160v-160H400v160ZM180-400h160v-160H180v160Zm440 0h160v-160H620v160ZM180-180h160v-160H180v160Zm440 0h160v-160H620v160Z\"/>\n",
              "  </svg>\n",
              "    </button>\n",
              "\n",
              "  <style>\n",
              "    .colab-df-container {\n",
              "      display:flex;\n",
              "      gap: 12px;\n",
              "    }\n",
              "\n",
              "    .colab-df-convert {\n",
              "      background-color: #E8F0FE;\n",
              "      border: none;\n",
              "      border-radius: 50%;\n",
              "      cursor: pointer;\n",
              "      display: none;\n",
              "      fill: #1967D2;\n",
              "      height: 32px;\n",
              "      padding: 0 0 0 0;\n",
              "      width: 32px;\n",
              "    }\n",
              "\n",
              "    .colab-df-convert:hover {\n",
              "      background-color: #E2EBFA;\n",
              "      box-shadow: 0px 1px 2px rgba(60, 64, 67, 0.3), 0px 1px 3px 1px rgba(60, 64, 67, 0.15);\n",
              "      fill: #174EA6;\n",
              "    }\n",
              "\n",
              "    .colab-df-buttons div {\n",
              "      margin-bottom: 4px;\n",
              "    }\n",
              "\n",
              "    [theme=dark] .colab-df-convert {\n",
              "      background-color: #3B4455;\n",
              "      fill: #D2E3FC;\n",
              "    }\n",
              "\n",
              "    [theme=dark] .colab-df-convert:hover {\n",
              "      background-color: #434B5C;\n",
              "      box-shadow: 0px 1px 3px 1px rgba(0, 0, 0, 0.15);\n",
              "      filter: drop-shadow(0px 1px 2px rgba(0, 0, 0, 0.3));\n",
              "      fill: #FFFFFF;\n",
              "    }\n",
              "  </style>\n",
              "\n",
              "    <script>\n",
              "      const buttonEl =\n",
              "        document.querySelector('#df-6a004477-9f01-40be-90f8-320130ffcf24 button.colab-df-convert');\n",
              "      buttonEl.style.display =\n",
              "        google.colab.kernel.accessAllowed ? 'block' : 'none';\n",
              "\n",
              "      async function convertToInteractive(key) {\n",
              "        const element = document.querySelector('#df-6a004477-9f01-40be-90f8-320130ffcf24');\n",
              "        const dataTable =\n",
              "          await google.colab.kernel.invokeFunction('convertToInteractive',\n",
              "                                                    [key], {});\n",
              "        if (!dataTable) return;\n",
              "\n",
              "        const docLinkHtml = 'Like what you see? Visit the ' +\n",
              "          '<a target=\"_blank\" href=https://colab.research.google.com/notebooks/data_table.ipynb>data table notebook</a>'\n",
              "          + ' to learn more about interactive tables.';\n",
              "        element.innerHTML = '';\n",
              "        dataTable['output_type'] = 'display_data';\n",
              "        await google.colab.output.renderOutput(dataTable, element);\n",
              "        const docLink = document.createElement('div');\n",
              "        docLink.innerHTML = docLinkHtml;\n",
              "        element.appendChild(docLink);\n",
              "      }\n",
              "    </script>\n",
              "  </div>\n",
              "\n",
              "\n",
              "<div id=\"df-ef83fa55-c445-48df-b177-1619eb9b52af\">\n",
              "  <button class=\"colab-df-quickchart\" onclick=\"quickchart('df-ef83fa55-c445-48df-b177-1619eb9b52af')\"\n",
              "            title=\"Suggest charts\"\n",
              "            style=\"display:none;\">\n",
              "\n",
              "<svg xmlns=\"http://www.w3.org/2000/svg\" height=\"24px\"viewBox=\"0 0 24 24\"\n",
              "     width=\"24px\">\n",
              "    <g>\n",
              "        <path d=\"M19 3H5c-1.1 0-2 .9-2 2v14c0 1.1.9 2 2 2h14c1.1 0 2-.9 2-2V5c0-1.1-.9-2-2-2zM9 17H7v-7h2v7zm4 0h-2V7h2v10zm4 0h-2v-4h2v4z\"/>\n",
              "    </g>\n",
              "</svg>\n",
              "  </button>\n",
              "\n",
              "<style>\n",
              "  .colab-df-quickchart {\n",
              "      --bg-color: #E8F0FE;\n",
              "      --fill-color: #1967D2;\n",
              "      --hover-bg-color: #E2EBFA;\n",
              "      --hover-fill-color: #174EA6;\n",
              "      --disabled-fill-color: #AAA;\n",
              "      --disabled-bg-color: #DDD;\n",
              "  }\n",
              "\n",
              "  [theme=dark] .colab-df-quickchart {\n",
              "      --bg-color: #3B4455;\n",
              "      --fill-color: #D2E3FC;\n",
              "      --hover-bg-color: #434B5C;\n",
              "      --hover-fill-color: #FFFFFF;\n",
              "      --disabled-bg-color: #3B4455;\n",
              "      --disabled-fill-color: #666;\n",
              "  }\n",
              "\n",
              "  .colab-df-quickchart {\n",
              "    background-color: var(--bg-color);\n",
              "    border: none;\n",
              "    border-radius: 50%;\n",
              "    cursor: pointer;\n",
              "    display: none;\n",
              "    fill: var(--fill-color);\n",
              "    height: 32px;\n",
              "    padding: 0;\n",
              "    width: 32px;\n",
              "  }\n",
              "\n",
              "  .colab-df-quickchart:hover {\n",
              "    background-color: var(--hover-bg-color);\n",
              "    box-shadow: 0 1px 2px rgba(60, 64, 67, 0.3), 0 1px 3px 1px rgba(60, 64, 67, 0.15);\n",
              "    fill: var(--button-hover-fill-color);\n",
              "  }\n",
              "\n",
              "  .colab-df-quickchart-complete:disabled,\n",
              "  .colab-df-quickchart-complete:disabled:hover {\n",
              "    background-color: var(--disabled-bg-color);\n",
              "    fill: var(--disabled-fill-color);\n",
              "    box-shadow: none;\n",
              "  }\n",
              "\n",
              "  .colab-df-spinner {\n",
              "    border: 2px solid var(--fill-color);\n",
              "    border-color: transparent;\n",
              "    border-bottom-color: var(--fill-color);\n",
              "    animation:\n",
              "      spin 1s steps(1) infinite;\n",
              "  }\n",
              "\n",
              "  @keyframes spin {\n",
              "    0% {\n",
              "      border-color: transparent;\n",
              "      border-bottom-color: var(--fill-color);\n",
              "      border-left-color: var(--fill-color);\n",
              "    }\n",
              "    20% {\n",
              "      border-color: transparent;\n",
              "      border-left-color: var(--fill-color);\n",
              "      border-top-color: var(--fill-color);\n",
              "    }\n",
              "    30% {\n",
              "      border-color: transparent;\n",
              "      border-left-color: var(--fill-color);\n",
              "      border-top-color: var(--fill-color);\n",
              "      border-right-color: var(--fill-color);\n",
              "    }\n",
              "    40% {\n",
              "      border-color: transparent;\n",
              "      border-right-color: var(--fill-color);\n",
              "      border-top-color: var(--fill-color);\n",
              "    }\n",
              "    60% {\n",
              "      border-color: transparent;\n",
              "      border-right-color: var(--fill-color);\n",
              "    }\n",
              "    80% {\n",
              "      border-color: transparent;\n",
              "      border-right-color: var(--fill-color);\n",
              "      border-bottom-color: var(--fill-color);\n",
              "    }\n",
              "    90% {\n",
              "      border-color: transparent;\n",
              "      border-bottom-color: var(--fill-color);\n",
              "    }\n",
              "  }\n",
              "</style>\n",
              "\n",
              "  <script>\n",
              "    async function quickchart(key) {\n",
              "      const quickchartButtonEl =\n",
              "        document.querySelector('#' + key + ' button');\n",
              "      quickchartButtonEl.disabled = true;  // To prevent multiple clicks.\n",
              "      quickchartButtonEl.classList.add('colab-df-spinner');\n",
              "      try {\n",
              "        const charts = await google.colab.kernel.invokeFunction(\n",
              "            'suggestCharts', [key], {});\n",
              "      } catch (error) {\n",
              "        console.error('Error during call to suggestCharts:', error);\n",
              "      }\n",
              "      quickchartButtonEl.classList.remove('colab-df-spinner');\n",
              "      quickchartButtonEl.classList.add('colab-df-quickchart-complete');\n",
              "    }\n",
              "    (() => {\n",
              "      let quickchartButtonEl =\n",
              "        document.querySelector('#df-ef83fa55-c445-48df-b177-1619eb9b52af button');\n",
              "      quickchartButtonEl.style.display =\n",
              "        google.colab.kernel.accessAllowed ? 'block' : 'none';\n",
              "    })();\n",
              "  </script>\n",
              "</div>\n",
              "\n",
              "    </div>\n",
              "  </div>\n"
            ],
            "application/vnd.google.colaboratory.intrinsic+json": {
              "type": "dataframe",
              "variable_name": "df"
            }
          },
          "metadata": {},
          "execution_count": 54
        }
      ],
      "source": [
        "\n",
        "def split_into_sentences(lyrics):\n",
        "    sentences = sent_tokenize(lyrics)\n",
        "    return '\\n '.join(sentences)\n",
        "\n",
        "df['Lyrics'] = df['Lyrics'].apply(split_into_sentences)\n",
        "print(df['Lyrics'][1])\n",
        "# to reduce vocab size let s try to remove more unecessary symbols and parts\n",
        "# Define a cleaning function\n",
        "def clean_lyrics(lyrics):\n",
        "    # Remove section tags like [Intro], [Verse 1], etc.\n",
        "    cleaned = re.sub(r'\\[.*?\\]', '', lyrics)\n",
        "\n",
        "    # Remove credits or text after \"---\"\n",
        "    cleaned = re.split(r'---', cleaned)[0]\n",
        "\n",
        "    # Remove symbols except for line breaks, alphanumeric characters, and key punctuation\n",
        "    cleaned = re.sub(r\"[^\\w\\s\\n.!?]\", '', cleaned)\n",
        "\n",
        "    # Remove extra whitespace and blank lines\n",
        "    cleaned = re.sub(r'\\n\\s*\\n', '\\n', cleaned).strip()\n",
        "\n",
        "    cleaned = cleaned.lower()\n",
        "\n",
        "    # Repeated punctuation sign normalization\n",
        "    cleaned = re.sub(r'(\\!{2,})', ' exclamations ', cleaned)\n",
        "    cleaned = re.sub(r'(\\?{2,})', ' questionMarks ', cleaned)\n",
        "    cleaned = re.sub(r'(\\.{3,})', ' ellipsis ', cleaned)\n",
        "\n",
        "    return cleaned\n",
        "\n",
        "# Apply the cleaning function\n",
        "df['Lyrics'] = df['Lyrics'].apply(clean_lyrics)\n",
        "\n",
        "print(df['Lyrics'][1])\n",
        "\n",
        "# Step 2: Initialize the tokenizer with an OOV token\n",
        "tokenizer = Tokenizer(oov_token=\"<UNK>\")\n",
        "\n",
        "# Fit the tokenizer on the sampled lyrics data\n",
        "tokenizer.fit_on_texts(df['Lyrics'])\n",
        "\n",
        "# Step 3: Convert lyrics to sequences\n",
        "sequences = tokenizer.texts_to_sequences(df['Lyrics'])\n",
        "\n",
        "# Determine the longest sequence length dynamically\n",
        "sequence_lengths = np.array([len(seq) for seq in sequences])\n",
        "max_sequence_length = int(np.percentile(sequence_lengths, 95))\n",
        "print(f\"Dynamic max_sequence_length: {max_sequence_length}\")\n",
        "\n",
        "# Step 4: Pad or truncate sequences to match the dynamic length\n",
        "padded_sequences = pad_sequences(sequences, maxlen=max_sequence_length, padding='post', truncating='post')\n",
        "\n",
        "# Print the top 10 most frequent words in the tokenizer's word index\n",
        "print(f\"Top 10 most frequent words in tokenizer vocabulary: {list(tokenizer.word_index.items())[:10]}\")\n",
        "\n",
        "df.head()"
      ]
    },
    {
      "cell_type": "markdown",
      "metadata": {
        "id": "4PQ9ajvO2F4A"
      },
      "source": [
        "# Embedding"
      ]
    },
    {
      "cell_type": "code",
      "source": [
        "from sentence_transformers import SentenceTransformer\n",
        "\n",
        "# Load pre-trained model\n",
        "model = SentenceTransformer('all-MiniLM-L6-v2')  # Small & fast model\n",
        "\n",
        "df['embedding'] = df['Lyrics'].apply(model.encode)\n"
      ],
      "metadata": {
        "id": "w-s8Uk8ZS5Pi"
      },
      "execution_count": null,
      "outputs": []
    },
    {
      "cell_type": "code",
      "source": [
        "#Save and Load\n",
        "\n",
        "np.save(\"lyrics_embeddings.npy\", df['embeddings'])\n",
        "#loaded_embeddings = np.load(\"lyrics_embeddings.npy\")"
      ],
      "metadata": {
        "id": "MzkPv3WMWgju"
      },
      "execution_count": null,
      "outputs": []
    },
    {
      "cell_type": "markdown",
      "source": [
        "# Random Forest"
      ],
      "metadata": {
        "id": "nHu8DZlgU7fi"
      }
    },
    {
      "cell_type": "code",
      "source": [
        "from sentence_transformers import SentenceTransformer\n",
        "from sklearn.ensemble import RandomForestClassifier\n",
        "from sklearn.model_selection import train_test_split\n",
        "from sklearn.metrics import accuracy_score\n",
        "from sklearn.preprocessing import LabelEncoder"
      ],
      "metadata": {
        "id": "6ofH3FZ5VbAU"
      },
      "execution_count": null,
      "outputs": []
    },
    {
      "cell_type": "code",
      "source": [
        "#As factor transform\n",
        "\n",
        "# Create LabelEncoder\n",
        "label_encoder = LabelEncoder()\n",
        "\n",
        "# Transform genres into numeric labels\n",
        "df['Genre'] = label_encoder.fit_transform(df['Genre'])\n",
        "\n",
        "# Train and test\n",
        "\n",
        "X_train, X_test, y_train, y_test = train_test_split(df['Lyrics'], df['Genre'], test_size=0.2, random_state=42)\n",
        "print(X_train, X_test, y_train, y_test)"
      ],
      "metadata": {
        "id": "8z_aavavVAC6"
      },
      "execution_count": null,
      "outputs": []
    },
    {
      "cell_type": "code",
      "source": [
        "# Model training\n",
        "rf = RandomForestClassifier(n_estimators=100, random_state=42)  # 100 alberi nella foresta\n",
        "\n",
        "# Fitting\n",
        "rf.fit(X_train, y_train)"
      ],
      "metadata": {
        "id": "C3xznD8hVlYj"
      },
      "execution_count": null,
      "outputs": []
    },
    {
      "cell_type": "code",
      "source": [
        "# Model testing\n",
        "# Prediction\n",
        "y_pred = rf.predict(X_test)\n",
        "\n",
        "# Metrics\n",
        "accuracy = accuracy_score(y_test, y_pred)\n",
        "print(f\"Accuratezza del modello: {accuracy:.2f}\")\n"
      ],
      "metadata": {
        "id": "cW_X7sywVvHv"
      },
      "execution_count": null,
      "outputs": []
    }
  ],
  "metadata": {
    "colab": {
      "toc_visible": true,
      "provenance": []
    },
    "kernelspec": {
      "display_name": "Python 3",
      "name": "python3"
    },
    "language_info": {
      "name": "python"
    }
  },
  "nbformat": 4,
  "nbformat_minor": 0
}